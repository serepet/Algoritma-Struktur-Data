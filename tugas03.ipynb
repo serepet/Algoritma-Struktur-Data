{
 "cells": [
  {
   "cell_type": "code",
   "execution_count": 4,
   "metadata": {},
   "outputs": [
    {
     "name": "stdout",
     "output_type": "stream",
     "text": [
      "30\n",
      "3.14\n",
      "50\n",
      "ini variabel milik m.rizki\n",
      "ini variabel milik m.rizki adalah 50\n"
     ]
    }
   ],
   "source": [
    "var = 30 #variabel:var\n",
    "phi =3.14#variabel:phi\n",
    "var2 = 50#variabel:var2\n",
    "variabel_saya = \"ini variabel milik m.rizki\"\n",
    "\n",
    "print(var)\n",
    "print(phi)\n",
    "print(var2)\n",
    "print(variabel_saya)\n",
    "print(variabel_saya,\"adalah\",var2)\n"
   ]
  },
  {
   "cell_type": "code",
   "execution_count": 5,
   "metadata": {},
   "outputs": [
    {
     "name": "stdout",
     "output_type": "stream",
     "text": [
      "314\n",
      "keliling lingkaran sama dengan 314.0\n"
     ]
    }
   ],
   "source": [
    "#m.rizki\n",
    "r=50     #tipe data intejer\n",
    "phi=3.14   #tipe data float\n",
    "kel=2*phi*r  #rumus\n",
    "print(int(kel)) \n",
    "print (\"keliling lingkaran sama dengan\", kel)\n"
   ]
  },
  {
   "cell_type": "code",
   "execution_count": 3,
   "metadata": {},
   "outputs": [
    {
     "name": "stdout",
     "output_type": "stream",
     "text": [
      "False\n",
      "True\n"
     ]
    }
   ],
   "source": [
    "#m.rizki\n",
    "muh=18   #variabel #tipe data intejer\n",
    "rizki=17   #variabel #tipe data intejer\n",
    "umur=18<17 \n",
    "usia=18>17\n",
    "print(umur)  #bolean false\n",
    "print(usia) #bolean true\n"
   ]
  },
  {
   "cell_type": "code",
   "execution_count": 4,
   "metadata": {},
   "outputs": [
    {
     "name": "stdout",
     "output_type": "stream",
     "text": [
      "64.0\n",
      "0b1000000\n",
      "0x40\n"
     ]
    }
   ],
   "source": [
    "ki=64   #variabel #tipe data intejer\n",
    "print(float(b)) #data float\n",
    "print(bin(b))   #data biner\n",
    "print(hex(b))  #data hexadecimal"
   ]
  },
  {
   "cell_type": "code",
   "execution_count": 8,
   "metadata": {},
   "outputs": [
    {
     "name": "stdout",
     "output_type": "stream",
     "text": [
      "biodata mahasiswa\n",
      "nama rizki\n",
      "nim 20090110\n",
      "dia mahasiswa semester 5 yang berprestasi karena,memiliki ipk sebesar 3.87\n"
     ]
    },
    {
     "ename": "NameError",
     "evalue": "name 'ipk' is not defined",
     "output_type": "error",
     "traceback": [
      "\u001b[1;31m---------------------------------------------------------------------------\u001b[0m",
      "\u001b[1;31mNameError\u001b[0m                                 Traceback (most recent call last)",
      "\u001b[1;32m<ipython-input-8-4d5972491636>\u001b[0m in \u001b[0;36m<module>\u001b[1;34m\u001b[0m\n\u001b[0;32m      9\u001b[0m \u001b[0mprint\u001b[0m\u001b[1;33m(\u001b[0m\u001b[1;34m\"dia mahasiswa semester\"\u001b[0m\u001b[1;33m,\u001b[0m\u001b[0msemester\u001b[0m\u001b[1;33m,\u001b[0m\u001b[1;34m\"yang berprestasi karena,memiliki ipk sebesar\"\u001b[0m\u001b[1;33m,\u001b[0m\u001b[0mipk\u001b[0m\u001b[1;33m)\u001b[0m\u001b[1;33m\u001b[0m\u001b[1;33m\u001b[0m\u001b[0m\n\u001b[0;32m     10\u001b[0m \u001b[1;32mdel\u001b[0m\u001b[1;33m(\u001b[0m\u001b[0mipk\u001b[0m\u001b[1;33m)\u001b[0m\u001b[1;33m\u001b[0m\u001b[1;33m\u001b[0m\u001b[0m\n\u001b[1;32m---> 11\u001b[1;33m \u001b[0mprint\u001b[0m\u001b[1;33m(\u001b[0m\u001b[0mipk\u001b[0m\u001b[1;33m)\u001b[0m\u001b[1;33m\u001b[0m\u001b[1;33m\u001b[0m\u001b[0m\n\u001b[0m",
      "\u001b[1;31mNameError\u001b[0m: name 'ipk' is not defined"
     ]
    }
   ],
   "source": [
    "judul=\"biodata mahasiswa\" #variabel #tipe data string\n",
    "nama= \"rizki\" #variabel #tipe data setaring\n",
    "nim= \"20090110\" #variabel #tipe data staring\n",
    "semester=5     #tipe data intejer\n",
    "ipk=3.87    #tipe data float\n",
    "print(judul)\n",
    "print(\"nama\",nama)    \n",
    "print(\"nim\",nim)\n",
    "print(\"dia mahasiswa semester\",semester,\"yang berprestasi karena,memiliki ipk sebesar\",ipk)\n",
    "del(ipk)\n",
    "print(ipk)"
   ]
  },
  {
   "cell_type": "code",
   "execution_count": null,
   "metadata": {},
   "outputs": [],
   "source": []
  }
 ],
 "metadata": {
  "kernelspec": {
   "display_name": "Python 3",
   "language": "python",
   "name": "python3"
  },
  "language_info": {
   "codemirror_mode": {
    "name": "ipython",
    "version": 3
   },
   "file_extension": ".py",
   "mimetype": "text/x-python",
   "name": "python",
   "nbconvert_exporter": "python",
   "pygments_lexer": "ipython3",
   "version": "3.8.3"
  }
 },
 "nbformat": 4,
 "nbformat_minor": 4
}
