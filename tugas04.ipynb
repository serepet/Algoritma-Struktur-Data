{
 "cells": [
  {
   "cell_type": "code",
   "execution_count": 9,
   "metadata": {},
   "outputs": [
    {
     "name": "stdout",
     "output_type": "stream",
     "text": [
      "hasil 20 + 10 = 30\n",
      "hasil 20 - 10 = 10\n",
      "hasil 20 * 10 = 200\n",
      "hasil 20 / 10 = 2.0\n",
      "hasil 20 % 10 = 0\n",
      "hasil 20 ** 10 = 10240000000000\n"
     ]
    }
   ],
   "source": [
    "a=20\n",
    "b=10\n",
    "\n",
    "#menggunakan operator penjumlahan\n",
    "c=a+b\n",
    "print(\"hasil\",a,\"+\",b,\"=\",c)\n",
    "\n",
    "#menggunakan operator pengurangan\n",
    "d=a-b\n",
    "print(\"hasil\",a,\"-\",b,\"=\",d)\n",
    "\n",
    "#menggunakan operator perkalian\n",
    "e=a*b\n",
    "print(\"hasil\",a,\"*\",b,\"=\",e)\n",
    "\n",
    "#menggunakan operator pembagian\n",
    "f=a/b\n",
    "print(\"hasil\",a,\"/\",b,\"=\",f)\n",
    "\n",
    "#menggunakan operator sisa bagi\n",
    "g=a%b\n",
    "print(\"hasil\",a,\"%\",b,\"=\",g)\n",
    "\n",
    "#menggunakan operator pemangkatan\n",
    "h=a**b\n",
    "print(\"hasil\",a,\"**\",b,\"=\",h)"
   ]
  },
  {
   "cell_type": "code",
   "execution_count": 19,
   "metadata": {},
   "outputs": [
    {
     "name": "stdout",
     "output_type": "stream",
     "text": [
      "15\n",
      "1\n",
      "8\n",
      "3.0\n",
      "0\n",
      "36\n"
     ]
    }
   ],
   "source": [
    "##operator pengisian\n",
    "a=10\n",
    "\n",
    "#operator penjumlahan\n",
    "a += 5\n",
    "print(a)\n",
    "\n",
    "#operator pengurangan\n",
    "b=3\n",
    "b-=2\n",
    "print(b)\n",
    "\n",
    "#operator perkalian\n",
    "c=4\n",
    "c*=2\n",
    "print(c)\n",
    "\n",
    "#operator pembagian\n",
    "d=6\n",
    "d/=2\n",
    "print(d)\n",
    "\n",
    "#operator sisa bagi\n",
    "e=8\n",
    "e%=2\n",
    "print(e)\n",
    "\n",
    "#operator pemangkatan\n",
    "f=6\n",
    "f**=2\n",
    "print(f)"
   ]
  },
  {
   "cell_type": "code",
   "execution_count": 25,
   "metadata": {},
   "outputs": [
    {
     "name": "stdout",
     "output_type": "stream",
     "text": [
      "apakah a sama dengan b : False\n",
      "apakah a lebih besar dari b : True\n",
      "apakah a lebih kecil dari b : False\n",
      "apakah a tidak sama dengan b : True\n",
      "apakah a lebih besar sama dengan b : True\n",
      "apakah a kurang dari sama dengan b : False\n"
     ]
    }
   ],
   "source": [
    "a=13\n",
    "b=11\n",
    "\n",
    "#operator sama dengan\n",
    "c= a==b\n",
    "print(\"apakah a sama dengan b :\",c)\n",
    "\n",
    "#operator lebih besar\n",
    "d= a>b\n",
    "print(\"apakah a lebih besar dari b :\",d)\n",
    "\n",
    "#operator kurang dari\n",
    "f= a<b\n",
    "print(\"apakah a lebih kecil dari b :\",f)\n",
    "\n",
    "#operator tidak sama dengan\n",
    "e= a!=b\n",
    "print(\"apakah a tidak sama dengan b :\",e)\n",
    "\n",
    "#operator lebih besar sama dengan\n",
    "g= a>=b\n",
    "print(\"apakah a lebih besar sama dengan b :\",g)\n",
    "\n",
    "#opeator lebih kecil sama dengan\n",
    "h= a<=b\n",
    "print(\"apakah a kurang dari sama dengan b :\",h)"
   ]
  },
  {
   "cell_type": "code",
   "execution_count": 30,
   "metadata": {},
   "outputs": [
    {
     "name": "stdout",
     "output_type": "stream",
     "text": [
      "False\n",
      "True\n",
      "True\n"
     ]
    }
   ],
   "source": [
    "#operator logika \n",
    "a= True\n",
    "b= False\n",
    "\n",
    "#logika AND\n",
    "c= a and b\n",
    "print (c)\n",
    "\n",
    "#operator logika OR\n",
    "e= a or b\n",
    "print (e)\n",
    "\n",
    "#logika negasi/kebalikan\n",
    "f= not b\n",
    "print (f)"
   ]
  },
  {
   "cell_type": "code",
   "execution_count": 31,
   "metadata": {},
   "outputs": [
    {
     "name": "stdout",
     "output_type": "stream",
     "text": [
      "masukan nama bayideba\n",
      "masukan berat badan bayi dalam kg3\n",
      "nama bayi adalah  deba\n",
      "berat bayi dalam kg  3\n",
      "berat bayi dalam ons  30\n",
      "berat bayi 1 bulan kedepan ditambah 30 ons menjadi  60\n"
     ]
    }
   ],
   "source": [
    "#masukan input\n",
    "name= input(\"masukan nama bayi\")\n",
    "bb= int (input(\"masukan berat badan bayi dalam kg\"))\n",
    "\n",
    "ons1= bb *10\n",
    "ons2= ons1 + 30\n",
    "\n",
    "#masukan output\n",
    "print(\"nama bayi adalah \",name)\n",
    "print(\"berat bayi dalam kg \", bb)\n",
    "print(\"berat bayi dalam ons \", ons1)\n",
    "print(\"berat bayi 1 bulan kedepan ditambah 30 ons menjadi \", ons2)"
   ]
  }
 ],
 "metadata": {
  "kernelspec": {
   "display_name": "Python 3",
   "language": "python",
   "name": "python3"
  },
  "language_info": {
   "codemirror_mode": {
    "name": "ipython",
    "version": 3
   },
   "file_extension": ".py",
   "mimetype": "text/x-python",
   "name": "python",
   "nbconvert_exporter": "python",
   "pygments_lexer": "ipython3",
   "version": "3.8.3"
  }
 },
 "nbformat": 4,
 "nbformat_minor": 4
}
