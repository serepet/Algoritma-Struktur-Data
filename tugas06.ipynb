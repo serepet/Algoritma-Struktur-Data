{
 "cells": [
  {
   "cell_type": "code",
   "execution_count": 1,
   "metadata": {},
   "outputs": [
    {
     "name": "stdout",
     "output_type": "stream",
     "text": [
      "masukan jari-jari1\n",
      "luas lingkaran adalah 3.14 maka\n",
      "linkaran  ini kecil\n"
     ]
    }
   ],
   "source": [
    "#m.rizki\n",
    "#notasi algoritma  \n",
    "rad = int(input(\"masukan jari-jari\"))\n",
    "\n",
    "luas = 3.14*rad*rad\n",
    "print(\"luas lingkaran adalah\" , luas,\"maka\")\n",
    "\n",
    "if luas >= 314:\n",
    "    print(\"linkaran ini benar\")\n",
    "\n",
    "else:\n",
    "    print(\"linkaran  ini kecil\")"
   ]
  },
  {
   "cell_type": "code",
   "execution_count": 2,
   "metadata": {},
   "outputs": [
    {
     "name": "stdout",
     "output_type": "stream",
     "text": [
      "masukan jari-jari10\n",
      "luas lingkaran adalah 314.0 maka\n",
      "linkaran ini benar\n"
     ]
    }
   ],
   "source": [
    "#m.rizki\n",
    "#notasi algoritma  \n",
    "rad = int(input(\"masukan jari-jari\"))\n",
    "\n",
    "luas = 3.14*rad*rad\n",
    "print(\"luas lingkaran adalah\" , luas,\"maka\")\n",
    "\n",
    "if luas >= 3.14:\n",
    "    print(\"linkaran ini benar\")\n",
    "\n",
    "else:\n",
    "    print(\"linkaran  ini kecil\")"
   ]
  },
  {
   "cell_type": "code",
   "execution_count": 6,
   "metadata": {},
   "outputs": [
    {
     "name": "stdout",
     "output_type": "stream",
     "text": [
      "masukan nomor program : 1\n",
      "masukan panjang:4\n",
      "masukan lebar:3\n",
      "masukan tinggi:1\n",
      "jadi volume balok : 12\n"
     ]
    }
   ],
   "source": [
    "#m.rizki \n",
    "#volume balok\n",
    "\n",
    "def x():\n",
    "    p = int(input(\"masukan panjang:\"))\n",
    "    l = int(input(\"masukan lebar:\"))\n",
    "    t = int(input(\"masukan tinggi:\"))\n",
    "    vb = (p*l*t)\n",
    "    return vb\n",
    "\n",
    "def y():\n",
    "    s=int(input(\"sisi : \"))\n",
    "    vk = (s*s*s)\n",
    "    return vk \n",
    "\n",
    "program =int(input(\"masukan nomor program : \"))\n",
    "\n",
    "if program == 1:\n",
    "    print(\"jadi volume balok :\" , x())\n",
    "    \n",
    "elif program ==2:\n",
    "        print(\"jadi volume kubus :\" , y())\n",
    "        \n",
    "else :\n",
    "    print(\"program tidak tersedia\")"
   ]
  },
  {
   "cell_type": "code",
   "execution_count": null,
   "metadata": {},
   "outputs": [],
   "source": []
  }
 ],
 "metadata": {
  "kernelspec": {
   "display_name": "Python 3",
   "language": "python",
   "name": "python3"
  },
  "language_info": {
   "codemirror_mode": {
    "name": "ipython",
    "version": 3
   },
   "file_extension": ".py",
   "mimetype": "text/x-python",
   "name": "python",
   "nbconvert_exporter": "python",
   "pygments_lexer": "ipython3",
   "version": "3.8.3"
  }
 },
 "nbformat": 4,
 "nbformat_minor": 4
}
