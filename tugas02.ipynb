{
 "cells": [
  {
   "cell_type": "code",
   "execution_count": 3,
   "metadata": {},
   "outputs": [
    {
     "name": "stdout",
     "output_type": "stream",
     "text": [
      "saya suka progaming\n",
      "saya suka progaming\n",
      "saya suka progaming\n",
      "saya suka progaming\n",
      "saya suka progaming\n"
     ]
    }
   ],
   "source": [
    "#Nama M.Rizki\n",
    "\n",
    "print(\"saya suka progaming\")\n",
    "print(\"saya suka progaming\")\n",
    "print(\"saya suka progaming\")\n",
    "print(\"saya suka progaming\")\n",
    "print(\"saya suka progaming\")"
   ]
  },
  {
   "cell_type": "code",
   "execution_count": 9,
   "metadata": {},
   "outputs": [
    {
     "name": "stdout",
     "output_type": "stream",
     "text": [
      "615.44\n"
     ]
    }
   ],
   "source": [
    "#nama M.Rizki\n",
    "phi=3.14\n",
    "r=14\n",
    "l=phi*r*r\n",
    "print(l)"
   ]
  },
  {
   "cell_type": "code",
   "execution_count": 12,
   "metadata": {},
   "outputs": [
    {
     "name": "stdout",
     "output_type": "stream",
     "text": [
      "saya m.rizki, saya membuat program menghitung balok\n",
      "panjang 5\n",
      "lebar 1\n",
      "tinggi 10\n",
      "sehingga volume balok 350\n"
     ]
    }
   ],
   "source": [
    "p=5\n",
    "l=7\n",
    "t=10\n",
    "v=p*l*t\n",
    "print(\"saya m.rizki, saya membuat program menghitung balok\")\n",
    "print(\"panjang=\",p)\n",
    "print(\"lebar=\",1)\n",
    "print(\"tinggi=\",t)\n",
    "print(\"sehingga volume balok=\",v)"
   ]
  },
  {
   "cell_type": "code",
   "execution_count": null,
   "metadata": {},
   "outputs": [],
   "source": []
  }
 ],
 "metadata": {
  "kernelspec": {
   "display_name": "Python 3",
   "language": "python",
   "name": "python3"
  },
  "language_info": {
   "codemirror_mode": {
    "name": "ipython",
    "version": 3
   },
   "file_extension": ".py",
   "mimetype": "text/x-python",
   "name": "python",
   "nbconvert_exporter": "python",
   "pygments_lexer": "ipython3",
   "version": "3.8.3"
  }
 },
 "nbformat": 4,
 "nbformat_minor": 4
}
