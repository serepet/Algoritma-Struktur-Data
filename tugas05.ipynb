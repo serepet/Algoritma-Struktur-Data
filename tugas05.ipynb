{
 "cells": [
  {
   "cell_type": "code",
   "execution_count": 1,
   "metadata": {},
   "outputs": [
    {
     "name": "stdout",
     "output_type": "stream",
     "text": [
      "i like programing\n",
      "because i proud to make something new\n"
     ]
    }
   ],
   "source": [
    "#m.rizki\n",
    "#membuat fungsi 1\n",
    "def alasan ():\n",
    "    print(\"because i proud to make something new\")\n",
    "\n",
    "#membuat fungsi 2\n",
    "def hobi():\n",
    "    print(\"i like programing\")\n",
    "    \n",
    "#pemanggilan fungsi\n",
    "hobi()\n",
    "alasan()\n"
   ]
  },
  {
   "cell_type": "code",
   "execution_count": 3,
   "metadata": {},
   "outputs": [
    {
     "name": "stdout",
     "output_type": "stream",
     "text": [
      "masukan nama andarizki\n",
      "nama anda adalah rizki\n",
      "luas persegi panjang adalah 12\n"
     ]
    }
   ],
   "source": [
    "#m.rizki\n",
    "#membuat fungsi dan parameter\n",
    "def data():\n",
    "    name =input(\"masukan nama anda\")\n",
    "    print(\"nama anda adalah\",name)\n",
    "    \n",
    "data()\n",
    "\n",
    "#membuat depan 2 prameter\n",
    "def luas_pp(panjang, lebar):\n",
    "    luas = (panjang*lebar)\n",
    "    print(\"luas persegi panjang adalah\",luas)\n",
    "    \n",
    "#pemanggilan fungsi\n",
    "luas_pp(6, 2)\n",
    "    "
   ]
  },
  {
   "cell_type": "code",
   "execution_count": 3,
   "metadata": {},
   "outputs": [
    {
     "name": "stdout",
     "output_type": "stream",
     "text": [
      "masukan panjang 3\n",
      "masukan lebar 2\n",
      "masukan tinggi4\n",
      "luas persegi panjang 6\n",
      "volume balok adalah 24\n"
     ]
    }
   ],
   "source": [
    "#m rizki \n",
    "panjang = int(input(\"masukan panjang \"))\n",
    "lebar = int(input(\"masukan lebar \"))\n",
    "tinggi = int(input(\"masukan tinggi\"))\n",
    "\n",
    "def luas_pp():\n",
    "    luas = (panjang*lebar)\n",
    "    return luas\n",
    "\n",
    "def volume_balok():\n",
    "    volume = luas_pp()*tinggi\n",
    "    return volume\n",
    "    \n",
    "print(\"luas persegi panjang\", luas_pp())\n",
    "print(\"volume balok adalah\", volume_balok())"
   ]
  },
  {
   "cell_type": "code",
   "execution_count": 8,
   "metadata": {},
   "outputs": [
    {
     "name": "stdout",
     "output_type": "stream",
     "text": [
      "jumlah kelapa:8\n",
      "jumlah ubi:6\n",
      "apakah kelapa sama dengan ubi ? False\n",
      "apakah kelapa lebih besar dari ubi True\n"
     ]
    }
   ],
   "source": [
    "kelapa=int(input(\"jumlah kelapa:\"))\n",
    "ubi=int(input(\"jumlah ubi:\"))\n",
    "def t():\n",
    "    a=(kelapa == ubi)\n",
    "    return a\n",
    "def u():\n",
    "    b=(kelapa > ubi)\n",
    "    return b\n",
    "print(\"apakah kelapa sama dengan ubi ?\",t())\n",
    "print(\"apakah kelapa lebih besar dari ubi\",u())"
   ]
  },
  {
   "cell_type": "code",
   "execution_count": null,
   "metadata": {},
   "outputs": [],
   "source": []
  }
 ],
 "metadata": {
  "kernelspec": {
   "display_name": "Python 3",
   "language": "python",
   "name": "python3"
  },
  "language_info": {
   "codemirror_mode": {
    "name": "ipython",
    "version": 3
   },
   "file_extension": ".py",
   "mimetype": "text/x-python",
   "name": "python",
   "nbconvert_exporter": "python",
   "pygments_lexer": "ipython3",
   "version": "3.8.3"
  }
 },
 "nbformat": 4,
 "nbformat_minor": 4
}
